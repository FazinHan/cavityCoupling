{
 "cells": [
  {
   "cell_type": "code",
   "execution_count": null,
   "id": "e60d7fd9-e47b-4317-841e-fb845279d9c5",
   "metadata": {},
   "outputs": [],
   "source": [
    "from sympy import *"
   ]
  },
  {
   "cell_type": "code",
   "execution_count": null,
   "id": "f3633b6e-ea95-41dc-922a-94dd729c87e4",
   "metadata": {},
   "outputs": [],
   "source": [
    "w0, w1, wr = symbols(\"\\\\tilde{\\\\gamma}_{0'} \\\\tilde{\\\\gamma}_{1'} \\\\tilde{\\\\gamma}_{r'}\") "
   ]
  },
  {
   "cell_type": "code",
   "execution_count": null,
   "id": "93267cb3-e5a9-4b64-9467-2c5db1f9b5ab",
   "metadata": {},
   "outputs": [],
   "source": [
    "g0 ,g1 = symbols(\"g_{0'} g_{1'}\")"
   ]
  },
  {
   "cell_type": "markdown",
   "id": "d332080e-2ffb-4697-9acf-a86ec81d0e75",
   "metadata": {},
   "source": [
    "### Coupling Matrix"
   ]
  },
  {
   "cell_type": "code",
   "execution_count": null,
   "id": "ff790ce1-a38a-482c-83bd-36a1fc9d350a",
   "metadata": {},
   "outputs": [],
   "source": [
    "H_coupling = Matrix([[w0,g0,0],[g0,wr,g1],[0,g1,w1]])"
   ]
  },
  {
   "cell_type": "code",
   "execution_count": null,
   "id": "bb399b34-4d9c-4c9c-b32e-2cb5c801fa31",
   "metadata": {},
   "outputs": [],
   "source": [
    "H_coupling"
   ]
  },
  {
   "cell_type": "code",
   "execution_count": null,
   "id": "1a0ec4b2-28c0-4eb9-9707-41ce5b6f27c3",
   "metadata": {},
   "outputs": [],
   "source": [
    "vals = H_coupling.eigenvals(multiple=True)"
   ]
  },
  {
   "cell_type": "code",
   "execution_count": null,
   "id": "aa698898-2aec-46c2-90df-d387e72da73c",
   "metadata": {},
   "outputs": [],
   "source": [
    "E_plus = simplify(vals[0])"
   ]
  },
  {
   "cell_type": "code",
   "execution_count": null,
   "id": "cb67c6d6-0568-4364-88b3-fbe5abb71198",
   "metadata": {},
   "outputs": [],
   "source": [
    "E_minus = simplify(vals[1])"
   ]
  },
  {
   "cell_type": "code",
   "execution_count": null,
   "id": "28fdb5d9-19d0-4fe1-90da-bfcd678401d2",
   "metadata": {},
   "outputs": [],
   "source": [
    "w_undamped_0, w_undamped_1, w_undamped_r, α, β, δ, γ0, γ1, γr = symbols(\"ω_0 ω_1 ω_r α β δ γ_0 γ_1 γ_r\")"
   ]
  },
  {
   "cell_type": "code",
   "execution_count": null,
   "id": "aa2d7f42-dd0b-4012-a998-6344cf34b433",
   "metadata": {},
   "outputs": [],
   "source": [
    "J, Γ_, Γ = symbols(\"J \\\\Gamma' \\\\Gamma\")"
   ]
  },
  {
   "cell_type": "code",
   "execution_count": null,
   "id": "0c7527d1-50cb-43c7-a574-46b0e5030478",
   "metadata": {},
   "outputs": [],
   "source": [
    "α_, β_, δ_ = symbols(\"\\\\alpha' \\\\beta' \\\\delta'\")"
   ]
  },
  {
   "cell_type": "code",
   "execution_count": null,
   "id": "e55579d1-7130-4153-ae82-ae07d8594580",
   "metadata": {},
   "outputs": [],
   "source": [
    "α_, β_, δ_ = α + γ0, β+γ1, δ_+γr"
   ]
  },
  {
   "cell_type": "code",
   "execution_count": null,
   "id": "762aec08-7e94-4f65-8c40-efbc4c6e532d",
   "metadata": {},
   "outputs": [],
   "source": [
    "w0_ = w_undamped_0 - I*α_"
   ]
  },
  {
   "cell_type": "code",
   "execution_count": null,
   "id": "b7345711-04c5-495f-b27b-2595d1aafb86",
   "metadata": {},
   "outputs": [],
   "source": [
    "w1_ = w_undamped_1 - I*β_"
   ]
  },
  {
   "cell_type": "code",
   "execution_count": null,
   "id": "069bb0c6-dc95-4979-82bf-8c3997ba1d96",
   "metadata": {},
   "outputs": [],
   "source": [
    "wr_ = w_undamped_r - I*δ_"
   ]
  },
  {
   "cell_type": "code",
   "execution_count": null,
   "id": "4820ab2d-6c4c-40fd-ad92-d642f03d4707",
   "metadata": {},
   "outputs": [],
   "source": [
    "J0, J1, G0_, G1_ = symbols(\"J_0 J_1 \\\\Gamma_0' \\\\Gamma_1'\")"
   ]
  },
  {
   "cell_type": "code",
   "execution_count": null,
   "id": "ed1c8022-c45d-45fe-8d52-4dda3b428882",
   "metadata": {},
   "outputs": [],
   "source": [
    "G0, G1 = symbols(\"\\\\Gamma_0 \\\\Gamma_1\")"
   ]
  },
  {
   "cell_type": "code",
   "execution_count": null,
   "id": "ac595564-21ae-405e-876a-9fd3eff93a29",
   "metadata": {},
   "outputs": [],
   "source": [
    "G1_ = G1 + sqrt(γ1*γr)"
   ]
  },
  {
   "cell_type": "code",
   "execution_count": null,
   "id": "c755116a-35fc-4bff-8b66-d0e6bfa27783",
   "metadata": {},
   "outputs": [],
   "source": [
    "G0_ = G0 + sqrt(γ0*γr)"
   ]
  },
  {
   "cell_type": "code",
   "execution_count": null,
   "id": "f9329ae7-cc4f-4e6c-85c2-9e8c5285aeb3",
   "metadata": {},
   "outputs": [],
   "source": [
    "g0_ = J0+I*G0_"
   ]
  },
  {
   "cell_type": "code",
   "execution_count": null,
   "id": "8cede718-f792-42c7-b77b-cf65f41b8212",
   "metadata": {},
   "outputs": [],
   "source": [
    "g1_ = J1+I*G1_"
   ]
  },
  {
   "cell_type": "code",
   "execution_count": null,
   "id": "79cf7a1a-0120-48f5-a5ce-c90e631e772e",
   "metadata": {},
   "outputs": [],
   "source": [
    "E_minus"
   ]
  },
  {
   "cell_type": "code",
   "execution_count": null,
   "id": "ca0bedb3-a382-4130-9bed-03317c3bf7d0",
   "metadata": {},
   "outputs": [],
   "source": [
    "E_plus"
   ]
  },
  {
   "cell_type": "code",
   "execution_count": null,
   "id": "b30ddc6f-0a0d-4e92-955f-eaecae086f58",
   "metadata": {},
   "outputs": [],
   "source": [
    "E_minus = E_minus.subs(g0, g0_)\n",
    "E_minus = E_minus.subs(g1, g1_)\n",
    "E_minus = E_minus.subs(w1, w1_)\n",
    "E_minus = E_minus.subs(w0, w0_)\n",
    "E_minus = E_minus.subs(wr, wr_)"
   ]
  },
  {
   "cell_type": "code",
   "execution_count": null,
   "id": "bf484b54-d2c9-4827-bc40-8362fe8839f3",
   "metadata": {},
   "outputs": [],
   "source": [
    "E_plus = E_plus.subs(g0, g0_)\n",
    "E_plus = E_plus.subs(g1, g1_)\n",
    "E_plus = E_plus.subs(w1, w1_)\n",
    "E_plus = E_plus.subs(w0, w0_)\n",
    "E_plus = E_plus.subs(wr, wr_)"
   ]
  },
  {
   "cell_type": "code",
   "execution_count": null,
   "id": "d279d999-a26f-467a-9860-08f7be18b1f7",
   "metadata": {},
   "outputs": [],
   "source": [
    "latex(E_plus)"
   ]
  },
  {
   "cell_type": "code",
   "execution_count": null,
   "id": "d20ed0e5-2aac-4ea0-b7b7-a456344513cc",
   "metadata": {},
   "outputs": [],
   "source": [
    "latex(E_minus)"
   ]
  },
  {
   "cell_type": "code",
   "execution_count": null,
   "id": "9fafd768-ba9a-4e14-af39-8e8ffa2b9f8d",
   "metadata": {},
   "outputs": [],
   "source": []
  }
 ],
 "metadata": {
  "kernelspec": {
   "display_name": "Python 3 (ipykernel)",
   "language": "python",
   "name": "python3"
  },
  "language_info": {
   "codemirror_mode": {
    "name": "ipython",
    "version": 3
   },
   "file_extension": ".py",
   "mimetype": "text/x-python",
   "name": "python",
   "nbconvert_exporter": "python",
   "pygments_lexer": "ipython3",
   "version": "3.12.3"
  }
 },
 "nbformat": 4,
 "nbformat_minor": 5
}
