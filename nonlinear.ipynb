{
 "cells": [
  {
   "cell_type": "markdown",
   "metadata": {},
   "source": [
    "### Nonlinear paper \n",
    "\n",
    "[Link to paper](./references/Magnon-mediated%20optical%20frequency%20comb%20in%20a%20cavity%20optomagnonical%20system.pdf)"
   ]
  },
  {
   "cell_type": "code",
   "execution_count": 1,
   "metadata": {},
   "outputs": [],
   "source": [
    "using QuantumCumulants\n",
    "using OrdinaryDiffEq, ModelingToolkit\n",
    "using DifferentialEquations\n",
    "using PyPlot\n",
    "import LinearAlgebra as la"
   ]
  },
  {
   "cell_type": "code",
   "execution_count": 9,
   "metadata": {},
   "outputs": [
    {
     "data": {
      "text/latex": [
       "\\begin{align}\n",
       "\\frac{d}{dt} \\langle a\\rangle  &= -1 i \\langle a\\rangle  {\\Delta}a -0.5 \\langle a\\rangle  \\kappa + \\left( {\\varepsilon}c + e^{-1 i t \\left( -1.256637061435925e13 + {\\Delta}a \\right)} \\xi\\left( t \\right) {\\varepsilon}p \\right) \\kappa^{0.5} -1 i g e^{-1 i t \\left( -1 {\\Delta}m + {\\omega}m \\right)} \\langle m\\rangle  \\langle a\\rangle  -1 i g \\langle m^\\dagger\\rangle  e^{1 i t \\left( -1 {\\Delta}m + {\\omega}m \\right)} \\langle a\\rangle  \\\\\n",
       "\\frac{d}{dt} \\langle m\\rangle  &= \\gamma^{0.5} {\\varepsilon}m -1 i \\langle m\\rangle  {\\Delta}m -0.5 \\langle m\\rangle  \\gamma -1 i g \\langle a^\\dagger\\rangle  e^{1 i t \\left( -1 {\\Delta}m + {\\omega}m \\right)} \\langle a\\rangle \n",
       "\\end{align}\n"
      ],
      "text/plain": [
       "∂ₜ(⟨a⟩) = (0 - 1im)*⟨a⟩*Δa - 0.5⟨a⟩*κ + (εc + exp((0 - 1im)*t*(-1.256637061435925e13 + Δa))*Main.ξ(t)*εp)*(κ^0.5) + (0 - 1im)*g*exp((0 - 1im)*t*(-Δm + ωm))*⟨m⟩*⟨a⟩ + (0 - 1im)*g*⟨m′⟩*exp((0 + 1im)*t*(-Δm + ωm))*⟨a⟩\n",
       "∂ₜ(⟨m⟩) = (γ^0.5)*εm + (0 - 1im)*⟨m⟩*Δm - 0.5⟨m⟩*γ + (0 - 1im)*g*⟨a′⟩*exp((0 + 1im)*t*(-Δm + ωm))*⟨a⟩\n"
      ]
     },
     "execution_count": 9,
     "metadata": {},
     "output_type": "execute_result"
    }
   ],
   "source": [
    "@cnumbers ωm Δa Δm εm εc εp κ γ g\n",
    "@syms t::Real\n",
    "@register_symbolic ξ(t)\n",
    "\n",
    "# Define the Fock spaces\n",
    "hmw = FockSpace(:cavity); hm = FockSpace(:cavity)\n",
    "h = hmw⊗hm\n",
    "\n",
    "ωw = ωm - Δm\n",
    "ω0 = 2*pi*193e12\n",
    "ωc = ω0 - Δa\n",
    "ωp = 2*pi*191e12\n",
    "Ω = ωp - ωc\n",
    "\n",
    "# Define the fundamental operators\n",
    "@qnumbers a::Destroy(h,1) m::Destroy(h,2)\n",
    "#            resonator          magnon        magnon YIG\n",
    "\n",
    "ħ=1\n",
    "\n",
    "# Define the Hamiltonian\n",
    "Ham = ℏ*Δa*(a'*a) + ℏ*Δm*(m'*m) + im*ℏ*γ^.5*εm*((m'-m)) +\n",
    "      ℏ*g*a'*a*((m'*exp(im*ωw*t)) + (m*exp(-im*ωw*t))) +\n",
    "      im*ℏ*κ^.5*((εc + εp*ξ(t)*exp(-im*Ω*t))*(a') - (εc + εp*ξ(t)*exp(im*Ω*t))*(a))\n",
    "\n",
    "# Collapse operators\n",
    "J = [a, m]#, b3]\n",
    "rates = [κ, γ]#, 2γ3]\n",
    "\n",
    "\n",
    "# Derive a set of equations\n",
    "ops = [a, m]#, b3]\n",
    "eqs = meanfield(ops, Ham, J; rates=rates, order=1)"
   ]
  },
  {
   "cell_type": "code",
   "execution_count": 21,
   "metadata": {},
   "outputs": [
    {
     "data": {
      "text/plain": [
       "\u001b[38;2;86;182;194mODEProblem\u001b[0m with uType \u001b[38;2;86;182;194mVector{ComplexF64}\u001b[0m and tType \u001b[38;2;86;182;194mFloat64\u001b[0m. In-place: \u001b[38;2;86;182;194mtrue\u001b[0m\n",
       "timespan: (0.5996, 0.6004)\n",
       "u0: 2-element Vector{ComplexF64}:\n",
       " 0.0 + 0.0im\n",
       " 0.0 + 0.0im"
      ]
     },
     "execution_count": 21,
     "metadata": {},
     "output_type": "execute_result"
    }
   ],
   "source": [
    "t0 = 1e-5\n",
    "tp = 1e-9\n",
    "\n",
    "function ξ(t)\n",
    "    return exp(2*log(2)*((t-t0)/tp)^2)\n",
    "end\n",
    "\n",
    "# Numerical solution\n",
    "ps = (ωm,Δa,Δm,εm,εc,εp,κ,γ,g)\n",
    "@named sys = ODESystem(eqs)\n",
    "u0 = zeros(ComplexF64, length(eqs))\n",
    "p0 = ps .=> (2*pi*5e9,0.0,0.0,1e6,1e6,1e6,2*pi*60*1e6,2*pi*6e6,2*pi*10.4)\n",
    "\n",
    "prob = ODEProblem(sys,u0,(0.5996,0.6004),p0)"
   ]
  },
  {
   "cell_type": "code",
   "execution_count": 22,
   "metadata": {},
   "outputs": [
    {
     "name": "stderr",
     "output_type": "stream",
     "text": [
      "\u001b[33m\u001b[1m┌ \u001b[22m\u001b[39m\u001b[33m\u001b[1mWarning: \u001b[22m\u001b[39mAutomatic dt set the starting dt as NaN, causing instability. Exiting.\n",
      "\u001b[33m\u001b[1m└ \u001b[22m\u001b[39m\u001b[90m@ OrdinaryDiffEqCore C:\\Users\\freak\\.julia\\packages\\OrdinaryDiffEqCore\\3Talm\\src\\solve.jl:649\u001b[39m\n",
      "\u001b[33m\u001b[1m┌ \u001b[22m\u001b[39m\u001b[33m\u001b[1mWarning: \u001b[22m\u001b[39mNaN dt detected. Likely a NaN value in the state, parameters, or derivative value caused this outcome.\n",
      "\u001b[33m\u001b[1m└ \u001b[22m\u001b[39m\u001b[90m@ SciMLBase C:\\Users\\freak\\.julia\\packages\\SciMLBase\\XzPx0\\src\\integrator_interface.jl:583\u001b[39m\n"
     ]
    },
    {
     "data": {
      "text/plain": [
       "retcode: DtNaN\n",
       "Interpolation: 3rd order Hermite\n",
       "t: 1-element Vector{Float64}:\n",
       " 0.5996\n",
       "u: 1-element Vector{Vector{ComplexF64}}:\n",
       " [0.0 + 0.0im, 0.0 + 0.0im]"
      ]
     },
     "execution_count": 22,
     "metadata": {},
     "output_type": "execute_result"
    }
   ],
   "source": [
    "sol = solve(prob,RK4())"
   ]
  },
  {
   "cell_type": "code",
   "execution_count": null,
   "metadata": {},
   "outputs": [],
   "source": []
  }
 ],
 "metadata": {
  "kernelspec": {
   "display_name": "Julia 1.11.2",
   "language": "julia",
   "name": "julia-1.11"
  },
  "language_info": {
   "file_extension": ".jl",
   "mimetype": "application/julia",
   "name": "julia",
   "version": "1.11.2"
  }
 },
 "nbformat": 4,
 "nbformat_minor": 2
}
