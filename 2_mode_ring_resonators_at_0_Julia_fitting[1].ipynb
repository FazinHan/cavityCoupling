{
 "cells": [
  {
   "cell_type": "code",
   "execution_count": 1,
   "id": "195eb99c",
   "metadata": {},
   "outputs": [
    {
     "data": {
      "text/latex": [
       "\\begin{align}\n",
       "\\frac{d}{dt} \\langle b1\\rangle  &= -1 i \\langle b1\\rangle  {\\omega}1 -1 i g \\langle b2\\rangle  -1 \\langle b1\\rangle  {\\gamma}1 -1 i {\\Omega}1 \\\\\n",
       "\\frac{d}{dt} \\langle b2\\rangle  &= -1 i \\langle b1\\rangle  g -1 {\\gamma}2 \\langle b2\\rangle  -1 i \\langle b2\\rangle  {\\omega}2 -1 i {\\Omega}2\n",
       "\\end{align}\n"
      ],
      "text/plain": [
       "∂ₜ(⟨b1⟩) = (0 - 1im)*Ω1 + (0 - 1im)*g*⟨b2⟩ - ⟨b1⟩*γ1 + (0 - 1im)*⟨b1⟩*ω1\n",
       "∂ₜ(⟨b2⟩) = (0 - 1im)*Ω2 + (0 - 1im)*g*⟨b1⟩ - ⟨b2⟩*γ2 + (0 - 1im)*⟨b2⟩*ω2\n"
      ]
     },
     "metadata": {},
     "output_type": "display_data"
    }
   ],
   "source": [
    "using QuantumCumulants\n",
    "using OrdinaryDiffEq, ModelingToolkit\n",
    "using DifferentialEquations\n",
    "using PyPlot\n",
    "using DelimitedFiles\n",
    "# using NPZ\n",
    "import LinearAlgebra as la\n",
    "# Define parameters\n",
    "@cnumbers ω1 ω2 g γ1 γ2 Ω1 Ω2   # 1-magnon, 2-photon\n",
    "h1 = FockSpace(:cavity);h2 = FockSpace(:cavity)\n",
    "h=h1⊗h2\n",
    "# Define the fundamental operators\n",
    "@qnumbers b1::Destroy(h,1) b2::Destroy(h,2)\n",
    "\n",
    "Ham = ω1*(b1'*b1) + ω2*(b2'*b2) +g*((b1'*b2)+(b2'*b1))+ Ω1*( b1'+b1) + Ω2*(b2'+b2)\n",
    "# Collapse operators\n",
    "J = [b1,b2]; rates = [2γ1,2γ2]\n",
    "# Derive a set of equations\n",
    "ops = [b1,b2]; eqs = meanfield(ops,Ham,J;rates=rates,order=1)\n"
   ]
  },
  {
   "cell_type": "code",
   "execution_count": 2,
   "id": "5709b445",
   "metadata": {},
   "outputs": [
    {
     "data": {
      "text/latex": [
       "$$ \\begin{equation}\n",
       "\\left[\n",
       "\\begin{array}{cc}\n",
       " - \\mathtt{{\\gamma}1} -\\mathit{i} \\mathtt{{\\omega}1} & -\\mathit{i} g \\\\\n",
       "-\\mathit{i} g &  - \\mathtt{{\\gamma}2} -\\mathit{i} \\mathtt{{\\omega}2} \\\\\n",
       "\\end{array}\n",
       "\\right]\n",
       "\\end{equation}\n",
       " $$"
      ],
      "text/plain": [
       "2×2 Matrix{Num}:\n",
       " -γ1 + (0-1im)*ω1         (0-1im)*g\n",
       "        (0-1im)*g  -γ2 + (0-1im)*ω2"
      ]
     },
     "metadata": {},
     "output_type": "display_data"
    }
   ],
   "source": [
    "# Complete equations\n",
    "eqs_completed = complete(eqs);\n",
    "@named sys = ODESystem(eqs_completed);\n",
    "A = calculate_jacobian(sys); B=[eqs_completed[1].rhs.dict[Ω1] * Ω1; eqs_completed[2].rhs.dict[Ω2] * Ω2];\n",
    "Ainv=inv(A); X=Ainv*B; b1=X[1]; b2=X[2];\n",
    "\n",
    "A"
   ]
  },
  {
   "cell_type": "code",
   "execution_count": 3,
   "id": "3fff7edc",
   "metadata": {},
   "outputs": [
    {
     "name": "stdout",
     "output_type": "stream",
     "text": [
      "(321,)\n"
     ]
    }
   ],
   "source": [
    "type = \"yig_t_0.02\"\n",
    "\n",
    "root = joinpath(pwd(),\"data\",\"lone_t_sweep_yig\")\n",
    "# file_path = joinpath(root, \"peaks_widths\", \"$type\"*\"_peaks_widths.csv\")\n",
    "file_path_full = joinpath(root,\"$type.csv\")\n",
    "# df = readdlm(file_path, ',', Float64, '\\n',skipstart=1)\n",
    "full_data = readdlm(file_path_full,',',Float64,'\\n')\n",
    "\n",
    "# Display the first few rows of the DataFrame\n",
    "frequencies = full_data[2:end,1];\n",
    "s21 = full_data[2:end,2:end];\n",
    "# locs = df[:,1:2] * 2e9 * pi;\n",
    "# locs = sort(locs, dims=2)\n",
    "Hlist = full_data[1,2:end] ./ 1000;\n",
    "\n",
    "println(size(Hlist))"
   ]
  },
  {
   "cell_type": "code",
   "execution_count": 17,
   "id": "45a59cd5",
   "metadata": {},
   "outputs": [],
   "source": [
    "#Numerical calculations of dispersion spectra for case-1 (J > Γ)\n",
    "# file_path = raw\"E:\\Abhishek\\Paper writting\\paper_2_Ambt\\Simulation data\\QM.model.fitting.ring0 and ring 90 for 25um thickness\\ring.720.920.5.csv\"\n",
    "files = [\"yig_t_0.020.csv\", \"yig_t_0.033.csv\", \"yig_t_0.060.csv\", \"yig_t_0.073.csv\", \"yig_t_0.087.csv\", \"yig_t_0.100.csv\"]\n",
    "# files = [\"yig_t_0.020.csv\", \"yig_t_0.033.csv\", \"yig_t_0.047.csv\", \"yig_t_0.060.csv\", \"yig_t_0.073.csv\", \"yig_t_0.087.csv\", \"yig_t_0.100.csv\"]\n",
    "nrows = 3\n",
    "ncols = 2\n",
    "plot_size = 3\n",
    "fig, axes = subplots(nrows=nrows,ncols=ncols,figsize=(plot_size*ncols,plot_size*nrows),sharex=true,sharey=true)\n",
    "# gns = 0.119:0.001:0.125\n",
    "gns = [0.118,0.152,0.191, 0.215, 0.221,0.235,0.245]\n",
    "\n",
    "for (idx,file) in enumerate(files)\n",
    "    file_path = \"data\\\\lone_t_sweep_yig\\\\$file\"\n",
    "\n",
    "    full_data = readdlm(file_path,',',Float64,'\\n')\n",
    "\n",
    "    # Display the first few rows of the DataFrame\n",
    "    frequencies = full_data[2:end,1];\n",
    "    s21 = full_data[2:end,2:end];\n",
    "    Hlist = full_data[1,2:end] ./ 1000;\n",
    "\n",
    "\n",
    "    γ1n=0.00014; γ2n=0.003697; \n",
    "    gn=gns[idx]\n",
    "    ω2n = 5.27;\n",
    "    # ω2n = 3.9790176;\n",
    "    # Hlist = range(0.720, 0.920, length=100) |> collect\n",
    "    occupationList1 = Float64[]; occupationList2 = Any[]\n",
    "    for H in Hlist\n",
    "            An=substitute( A, Dict(ω1=>1.06284384+(3.24789744)*H,ω2=>ω2n,g=>gn,γ1=>γ1n,γ2=>γ2n))\n",
    "            Ann = 1im * zeros(2,2)\n",
    "            for i=1:2\n",
    "                for j=1:2\n",
    "                    Ann[i,j] = real(An[i,j]) + 1im * imag(An[i,j])\n",
    "                end\n",
    "            \n",
    "            end\n",
    "            # if abs(H-0.8) < 1e-2\n",
    "            #     println(Ann*1im)\n",
    "            # end\n",
    "            data0=Ann * 1im\n",
    "            data1 = la.eigen(data0)\n",
    "        \n",
    "            datar=la.real(data1.values)\n",
    "            r1n=datar[1]; r2n=datar[2];\n",
    "        \n",
    "        push!(occupationList1, r1n); push!(occupationList2, r2n)\n",
    "    end\n",
    "\n",
    "    ax = axes[idx]\n",
    "\n",
    "    # println(size(s21))\n",
    "    # print(size(Hlist))\n",
    "    ax.pcolormesh(Hlist, frequencies, s21, cmap=\"inferno_r\")#, levels=-7:0.1:0)\n",
    "    ax.plot(Hlist,occupationList1,\"w\",alpha=.5);ax.plot(Hlist,occupationList2,\"w\",alpha=.5)\n",
    "    t = Int64(parse(Float64,file[7:end-4])*1e3)\n",
    "    ax.text(0.95, 5.5, \"t=$t μm\", color=\"white\", fontsize=10)\n",
    "    # ax.set_xlabel(\"Magnetic Field (kOe)\"); ax.set_ylabel(\"Frequency (GHz)\")\n",
    "    # ax.set_title(\"$file g = $gn\")\n",
    "\n",
    "    # ax.set_xlim(0.720, 0.920)\n",
    "    # ax.set_ylim(3.6, 4.4)\n",
    "    ax.set_xlim(0.9,1.6)\n",
    "    ax.set_ylim(5, 5.6)\n",
    "end\n",
    "\n",
    "ax_big = fig.add_subplot(111,frameon=false)  # Create a big subplot\n",
    "\n",
    "# Turn off ax_bigis lines and ticks of the big subplot\n",
    "ax_big.spines[\"top\"].set_color(\"none\")\n",
    "ax_big.spines[\"bottom\"].set_color(\"none\")\n",
    "ax_big.spines[\"left\"].set_color(\"none\")\n",
    "ax_big.spines[\"right\"].set_color(\"none\")\n",
    "ax_big.tick_params(labelcolor=\"none\",top=false, bottom=false, left=false, right=false)\n",
    "\n",
    "# Set common labels\n",
    "ax_big.set_xlabel(\"H (kOe)\")\n",
    "ax_big.set_ylabel(\"Frequency (GHz)\")\n",
    "\n",
    "tight_layout()\n",
    "savefig(\"tentative\\\\images\\\\lone_yig.png\",dpi=300,bbox_inches=\"tight\")\n",
    "close(fig)\n"
   ]
  },
  {
   "cell_type": "code",
   "execution_count": null,
   "id": "358481f1",
   "metadata": {},
   "outputs": [],
   "source": []
  }
 ],
 "metadata": {
  "kernelspec": {
   "display_name": "Julia 1.10.8",
   "language": "julia",
   "name": "julia-1.10"
  },
  "language_info": {
   "file_extension": ".jl",
   "mimetype": "application/julia",
   "name": "julia",
   "version": "1.10.8"
  }
 },
 "nbformat": 4,
 "nbformat_minor": 5
}
