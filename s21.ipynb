{
 "cells": [
  {
   "cell_type": "code",
   "execution_count": 1,
   "id": "4c722f76-dff6-4498-bbec-894a2637c53f",
   "metadata": {},
   "outputs": [],
   "source": [
    "from sympy import *\n",
    "from sympy.parsing.mathematica import parse_mathematica"
   ]
  },
  {
   "cell_type": "code",
   "execution_count": 2,
   "id": "f3633b6e-ea95-41dc-922a-94dd729c87e4",
   "metadata": {},
   "outputs": [],
   "source": [
    "w0, w1, wr, w = symbols(\"\\\\tilde{ω}_{0} \\\\tilde{ω}_{1} \\\\tilde{ω}_{r} ω\") "
   ]
  },
  {
   "cell_type": "code",
   "execution_count": 3,
   "id": "93267cb3-e5a9-4b64-9467-2c5db1f9b5ab",
   "metadata": {},
   "outputs": [],
   "source": [
    "g0 ,g1 = symbols(\"g_{0} g_{1}\")"
   ]
  },
  {
   "cell_type": "code",
   "execution_count": 4,
   "id": "d4781eb0-db6c-4cf7-b866-3943c5a5db64",
   "metadata": {},
   "outputs": [],
   "source": [
    "γ0, γ1, γr = symbols(\"γ_0 γ_1 γ_r\")"
   ]
  },
  {
   "cell_type": "code",
   "execution_count": 5,
   "id": "c45070f9-7913-4d4a-8fa4-0b1e28125efb",
   "metadata": {},
   "outputs": [],
   "source": [
    "b0, b1, br, b_in, b_out = symbols(\"\\\\hat{b}_0 \\\\hat{b}_1 \\\\hat{b}_r \\\\hat{b}_{in} \\\\hat{b}_{out}\")"
   ]
  },
  {
   "cell_type": "code",
   "execution_count": 6,
   "id": "6fcdea9e-9304-44cd-bda6-33f76c51e81c",
   "metadata": {},
   "outputs": [],
   "source": [
    "phi0, phi1, phir = symbols(\"\\\\phi_0 \\\\phi_1 \\\\phi_r\")"
   ]
  },
  {
   "cell_type": "code",
   "execution_count": 7,
   "id": "8e263416-cb44-4bbf-80bd-8e3c017a05d2",
   "metadata": {},
   "outputs": [],
   "source": [
    "eq_a = I/sqrt(γ0)*(w0+w)*b0+I*b_in +γ0*b0+sqrt(γ0*γ1)*b1+sqrt(γ0*γr)*br+I*phi0"
   ]
  },
  {
   "cell_type": "code",
   "execution_count": 8,
   "id": "e77e6266-b1e8-4e30-bd63-0460d35183da",
   "metadata": {},
   "outputs": [
    {
     "data": {
      "text/latex": [
       "$\\displaystyle \\hat{b}_0 γ_{0} + \\frac{i \\hat{b}_0 \\left(\\tilde{ω}_{0} + ω\\right)}{\\sqrt{γ_{0}}} + \\hat{b}_1 \\sqrt{γ_{0} γ_{1}} + \\hat{b}_r \\sqrt{γ_{0} γ_{r}} + i \\hat{b}_{in} + i \\phi_{0}$"
      ],
      "text/plain": [
       "\\hat{b}_0*γ_0 + I*\\hat{b}_0*(\\tilde{ω}_{0} + ω)/sqrt(γ_0) + \\hat{b}_1*sqrt(γ_0*γ_1) + \\hat{b}_r*sqrt(γ_0*γ_r) + I*\\hat{b}_{in} + I*\\phi_0"
      ]
     },
     "execution_count": 8,
     "metadata": {},
     "output_type": "execute_result"
    }
   ],
   "source": [
    "eq_a"
   ]
  },
  {
   "cell_type": "code",
   "execution_count": 9,
   "id": "f6ae1e04-dc9a-482e-8434-c4abd5db990c",
   "metadata": {},
   "outputs": [],
   "source": [
    "eq_b = I/sqrt(γ1)*(w1+w)*b1+I*b_in +γ1*b1+sqrt(γ1*γ0)*b0+sqrt(γ1*γr)*br+I*phi1"
   ]
  },
  {
   "cell_type": "code",
   "execution_count": 10,
   "id": "b983f800-e33d-4c69-a09a-a18eac0e6eaf",
   "metadata": {},
   "outputs": [
    {
     "data": {
      "text/latex": [
       "$\\displaystyle \\hat{b}_0 \\sqrt{γ_{0} γ_{1}} + \\hat{b}_1 γ_{1} + \\frac{i \\hat{b}_1 \\left(\\tilde{ω}_{1} + ω\\right)}{\\sqrt{γ_{1}}} + \\hat{b}_r \\sqrt{γ_{1} γ_{r}} + i \\hat{b}_{in} + i \\phi_{1}$"
      ],
      "text/plain": [
       "\\hat{b}_0*sqrt(γ_0*γ_1) + \\hat{b}_1*γ_1 + I*\\hat{b}_1*(\\tilde{ω}_{1} + ω)/sqrt(γ_1) + \\hat{b}_r*sqrt(γ_1*γ_r) + I*\\hat{b}_{in} + I*\\phi_1"
      ]
     },
     "execution_count": 10,
     "metadata": {},
     "output_type": "execute_result"
    }
   ],
   "source": [
    "eq_b"
   ]
  },
  {
   "cell_type": "code",
   "execution_count": 11,
   "id": "32ab5740-e478-40e4-b75b-0584f5ebf926",
   "metadata": {},
   "outputs": [],
   "source": [
    "eq_c = I/sqrt(γr)*(wr+w)*br+I*b_in +γr*br+sqrt(γr*γ0)*b0+sqrt(γ1*γr)*b1+I*phir"
   ]
  },
  {
   "cell_type": "code",
   "execution_count": 12,
   "id": "4d824226-7605-4735-a5b5-5517a705d958",
   "metadata": {},
   "outputs": [
    {
     "data": {
      "text/latex": [
       "$\\displaystyle \\hat{b}_0 \\sqrt{γ_{0} γ_{r}} + \\hat{b}_1 \\sqrt{γ_{1} γ_{r}} + \\hat{b}_r γ_{r} + \\frac{i \\hat{b}_r \\left(\\tilde{ω}_{r} + ω\\right)}{\\sqrt{γ_{r}}} + i \\hat{b}_{in} + i \\phi_{r}$"
      ],
      "text/plain": [
       "\\hat{b}_0*sqrt(γ_0*γ_r) + \\hat{b}_1*sqrt(γ_1*γ_r) + \\hat{b}_r*γ_r + I*\\hat{b}_r*(\\tilde{ω}_{r} + ω)/sqrt(γ_r) + I*\\hat{b}_{in} + I*\\phi_r"
      ]
     },
     "execution_count": 12,
     "metadata": {},
     "output_type": "execute_result"
    }
   ],
   "source": [
    "eq_c"
   ]
  },
  {
   "cell_type": "code",
   "execution_count": null,
   "id": "95edce69-eb15-44da-9e8c-36c5c32ea3d9",
   "metadata": {},
   "outputs": [],
   "source": [
    "sols=solve([eq_a, eq_b, eq_c],[b0,b1,br])"
   ]
  },
  {
   "cell_type": "code",
   "execution_count": null,
   "id": "2dfa5cbc-fa22-40a2-a5b8-5de601122e89",
   "metadata": {},
   "outputs": [],
   "source": [
    "sols"
   ]
  },
  {
   "cell_type": "code",
   "execution_count": null,
   "id": "27005b62-28ab-4242-8cdd-d9c04f67604b",
   "metadata": {},
   "outputs": [],
   "source": []
  }
 ],
 "metadata": {
  "kernelspec": {
   "display_name": "Python 3 (ipykernel)",
   "language": "python",
   "name": "python3"
  },
  "language_info": {
   "codemirror_mode": {
    "name": "ipython",
    "version": 3
   },
   "file_extension": ".py",
   "mimetype": "text/x-python",
   "name": "python",
   "nbconvert_exporter": "python",
   "pygments_lexer": "ipython3",
   "version": "3.12.3"
  }
 },
 "nbformat": 4,
 "nbformat_minor": 5
}
