{
 "cells": [
  {
   "cell_type": "code",
   "execution_count": 1,
   "id": "27cc40aa",
   "metadata": {},
   "outputs": [],
   "source": [
    "using QuantumCumulants\n",
    "using OrdinaryDiffEq, ModelingToolkit\n",
    "using DifferentialEquations\n",
    "using PyPlot\n",
    "# using NPZ\n",
    "import LinearAlgebra as la"
   ]
  },
  {
   "cell_type": "code",
   "execution_count": 2,
   "id": "0c990510",
   "metadata": {},
   "outputs": [
    {
     "data": {
      "text/plain": [
       "ℋ(magnon) ⊗ ℋ(magnon) ⊗ ℋ(cavity)"
      ]
     },
     "metadata": {},
     "output_type": "display_data"
    }
   ],
   "source": [
    "# Hilbert space\n",
    "h1 = FockSpace(:magnon)\n",
    "h2 = FockSpace(:magnon)\n",
    "\n",
    "h3 = FockSpace(:cavity)\n",
    "h=h1⊗h2⊗h3  #tensor product (genaralised hilbert space) of magnon and cavity mode"
   ]
  },
  {
   "cell_type": "code",
   "execution_count": 3,
   "id": "118a09f3",
   "metadata": {},
   "outputs": [
    {
     "data": {
      "text/plain": [
       "(ω1, ω2, ω3, g1, g2, g3, γ1, γ2, γ3, pin)"
      ]
     },
     "metadata": {},
     "output_type": "display_data"
    }
   ],
   "source": [
    "# Define parameters\n",
    "@cnumbers ω1 ω2 ω3 g1 g2 g3 γ1 γ2 γ3 pin   # 1-magnonPY, 2-magnonYIG 3-photon"
   ]
  },
  {
   "cell_type": "code",
   "execution_count": 4,
   "id": "219fe474",
   "metadata": {},
   "outputs": [
    {
     "data": {
      "text/plain": [
       "(b1, b2, b3)"
      ]
     },
     "metadata": {},
     "output_type": "display_data"
    }
   ],
   "source": [
    "# Define the fundamental operators\n",
    "@qnumbers b1::Destroy(h,1) b2::Destroy(h,2) b3::Destroy(h,3) # b1 annihilation operator for magnon and b2 annihilation operator for photon"
   ]
  },
  {
   "cell_type": "code",
   "execution_count": 5,
   "id": "a06198ca",
   "metadata": {},
   "outputs": [
    {
     "data": {
      "text/latex": [
       "${\\omega}1 b1^\\dagger b1 + {\\omega}2 b2^\\dagger b2 + {\\omega}3 b3^\\dagger b3 + \\left( g2 -1 i \\sqrt{{\\gamma}1 {\\gamma}2} \\right) b1^\\dagger b2 + \\left( g2 -1 i \\sqrt{{\\gamma}1 {\\gamma}2} \\right) b1 b2^\\dagger + \\left( g3 -1 i \\sqrt{{\\gamma}1 {\\gamma}3} \\right) b1^\\dagger b3 + \\left( g3 -1 i \\sqrt{{\\gamma}1 {\\gamma}3} \\right) b1 b3^\\dagger + \\left( g1 -1 i \\sqrt{{\\gamma}2 {\\gamma}3} \\right) b2^\\dagger b3 + \\left( g1 -1 i \\sqrt{{\\gamma}2 {\\gamma}3} \\right) b2 b3^\\dagger + pin \\sqrt{{\\gamma}1} b1^\\dagger + pin \\sqrt{{\\gamma}1} b1 + pin \\sqrt{{\\gamma}2} b2^\\dagger + pin \\sqrt{{\\gamma}2} b2 + pin \\sqrt{{\\gamma}3} b3^\\dagger + pin \\sqrt{{\\gamma}3} b3$"
      ],
      "text/plain": [
       "(ω1*(b1′*b1)+ω2*(b2′*b2)+ω3*(b3′*b3)+g2 + (0 - 1im)*sqrt(γ1*γ2)*(b1′*b2)+g2 + (0 - 1im)*sqrt(γ1*γ2)*(b1*b2′)+g3 + (0 - 1im)*sqrt(γ1*γ3)*(b1′*b3)+g3 + (0 - 1im)*sqrt(γ1*γ3)*(b1*b3′)+g1 + (0 - 1im)*sqrt(γ2*γ3)*(b2′*b3)+g1 + (0 - 1im)*sqrt(γ2*γ3)*(b2*b3′)+pin*sqrt(γ1)*(b1′)+pin*sqrt(γ1)*(b1)+pin*sqrt(γ2)*(b2′)+pin*sqrt(γ2)*(b2)+pin*sqrt(γ3)*(b3′)+pin*sqrt(γ3)*(b3))"
      ]
     },
     "metadata": {},
     "output_type": "display_data"
    }
   ],
   "source": [
    "# Hamiltonian with two modes b1 and b2\n",
    "Ham = ω1*(b1'*b1) + ω2*(b2'*b2) + ω3*(b3'*b3) +(g2-1im*sqrt(γ1*γ2))*((b1'*b2)+(b1*b2')) + (g3-1im*sqrt(γ1*γ3))*((b1'*b3)+(b1*b3')) + (g1-1im*sqrt(γ2*γ3))*((b2'*b3)+(b2*b3')) + sqrt(γ1)*pin*( b1'+b1) + sqrt(γ2)*pin*(b2'+b2) + sqrt(γ3)*pin*(b3'+b3)"
   ]
  },
  {
   "cell_type": "code",
   "execution_count": 6,
   "id": "9ef8612c",
   "metadata": {},
   "outputs": [
    {
     "data": {
      "text/latex": [
       "\\begin{align}\n",
       "\\frac{d}{dt} \\langle b1\\rangle  &= -1 i \\left( g2 -1 i \\sqrt{{\\gamma}1 {\\gamma}2} \\right) \\langle b2\\rangle  -1 i \\left( g3 -1 i \\sqrt{{\\gamma}1 {\\gamma}3} \\right) \\langle b3\\rangle  -1 i pin \\sqrt{{\\gamma}1} -1 \\langle b1\\rangle  {\\gamma}1 -1 i \\langle b1\\rangle  {\\omega}1 \\\\\n",
       "\\frac{d}{dt} \\langle b2\\rangle  &= -1 i \\left( g1 -1 i \\sqrt{{\\gamma}2 {\\gamma}3} \\right) \\langle b3\\rangle  -1 i \\left( g2 -1 i \\sqrt{{\\gamma}1 {\\gamma}2} \\right) \\langle b1\\rangle  -1 i pin \\sqrt{{\\gamma}2} -1 \\langle b2\\rangle  {\\gamma}2 -1 i \\langle b2\\rangle  {\\omega}2 \\\\\n",
       "\\frac{d}{dt} \\langle b3\\rangle  &= -1 i \\left( g1 -1 i \\sqrt{{\\gamma}2 {\\gamma}3} \\right) \\langle b2\\rangle  -1 i \\left( g3 -1 i \\sqrt{{\\gamma}1 {\\gamma}3} \\right) \\langle b1\\rangle  -1 i pin \\sqrt{{\\gamma}3} -1 \\langle b3\\rangle  {\\gamma}3 -1 i \\langle b3\\rangle  {\\omega}3\n",
       "\\end{align}\n"
      ],
      "text/plain": [
       "∂ₜ(⟨b1⟩) = (0 - 1im)*(g2 + (0 - 1im)*sqrt(γ1*γ2))*⟨b2⟩ + (0 - 1im)*(g3 + (0 - 1im)*sqrt(γ1*γ3))*⟨b3⟩ + (0 - 1im)*pin*sqrt(γ1) - ⟨b1⟩*γ1 + (0 - 1im)*⟨b1⟩*ω1\n",
       "∂ₜ(⟨b2⟩) = (0 - 1im)*(g1 + (0 - 1im)*sqrt(γ2*γ3))*⟨b3⟩ + (0 - 1im)*(g2 + (0 - 1im)*sqrt(γ1*γ2))*⟨b1⟩ + (0 - 1im)*pin*sqrt(γ2) - ⟨b2⟩*γ2 + (0 - 1im)*⟨b2⟩*ω2\n",
       "∂ₜ(⟨b3⟩) = (0 - 1im)*(g1 + (0 - 1im)*sqrt(γ2*γ3))*⟨b2⟩ + (0 - 1im)*(g3 + (0 - 1im)*sqrt(γ1*γ3))*⟨b1⟩ + (0 - 1im)*pin*sqrt(γ3) - ⟨b3⟩*γ3 + (0 - 1im)*⟨b3⟩*ω3\n"
      ]
     },
     "metadata": {},
     "output_type": "display_data"
    }
   ],
   "source": [
    "# Derive a set of equations\n",
    "ops = [b1,b2,b3]\n",
    "eqs = meanfield(ops,Ham,[b1,b2,b3];rates=[2γ1,2γ2,2γ3],order=1)\n",
    "eqs_completed = complete(eqs)"
   ]
  },
  {
   "cell_type": "code",
   "execution_count": 7,
   "id": "85e3b87d",
   "metadata": {},
   "outputs": [
    {
     "data": {
      "text/latex": [
       "$$ \\begin{equation}\n",
       "\\left[\n",
       "\\begin{array}{ccc}\n",
       " - \\mathtt{{\\gamma}1} -\\mathit{i} \\mathtt{{\\omega}1} & -\\mathit{i} \\left( \\mathtt{g2} -\\mathit{i} \\sqrt{\\mathtt{{\\gamma}1} \\mathtt{{\\gamma}2}} \\right) & -\\mathit{i} \\left( \\mathtt{g3} -\\mathit{i} \\sqrt{\\mathtt{{\\gamma}1} \\mathtt{{\\gamma}3}} \\right) \\\\\n",
       "-\\mathit{i} \\left( \\mathtt{g2} -\\mathit{i} \\sqrt{\\mathtt{{\\gamma}1} \\mathtt{{\\gamma}2}} \\right) &  - \\mathtt{{\\gamma}2} -\\mathit{i} \\mathtt{{\\omega}2} & -\\mathit{i} \\left( \\mathtt{g1} -\\mathit{i} \\sqrt{\\mathtt{{\\gamma}2} \\mathtt{{\\gamma}3}} \\right) \\\\\n",
       "-\\mathit{i} \\left( \\mathtt{g3} -\\mathit{i} \\sqrt{\\mathtt{{\\gamma}1} \\mathtt{{\\gamma}3}} \\right) & -\\mathit{i} \\left( \\mathtt{g1} -\\mathit{i} \\sqrt{\\mathtt{{\\gamma}2} \\mathtt{{\\gamma}3}} \\right) &  - \\mathtt{{\\gamma}3} -\\mathit{i} \\mathtt{{\\omega}3} \\\\\n",
       "\\end{array}\n",
       "\\right]\n",
       "\\end{equation}\n",
       " $$"
      ],
      "text/plain": [
       "3×3 Matrix{Num}:\n",
       "                   -γ1 + (0-1im)*ω1  …  (0-1im)*(g3 + (0-1im)*sqrt(γ1*γ3))\n",
       " (0-1im)*(g2 + (0-1im)*sqrt(γ1*γ2))     (0-1im)*(g1 + (0-1im)*sqrt(γ2*γ3))\n",
       " (0-1im)*(g3 + (0-1im)*sqrt(γ1*γ3))                       -γ3 + (0-1im)*ω3"
      ]
     },
     "metadata": {},
     "output_type": "display_data"
    }
   ],
   "source": [
    "# Complete equations\n",
    "@named sys = ODESystem(eqs_completed);\n",
    "A = calculate_jacobian(sys); #B=[eqs_completed[1].rhs.dict[Ω1] * Ω1; eqs_completed[2].rhs.dict[Ω2] * Ω2];\n",
    "#Ainv=inv(A); X=Ainv*B; b1=X[1]; b2=X[2];\n",
    "A"
   ]
  },
  {
   "cell_type": "code",
   "execution_count": 8,
   "id": "67d290d1",
   "metadata": {},
   "outputs": [
    {
     "ename": "UndefVarError",
     "evalue": "UndefVarError: `states` not defined in `Main`\nSuggestion: check for spelling errors or missing imports.",
     "output_type": "error",
     "traceback": [
      "UndefVarError: `states` not defined in `Main`\n",
      "Suggestion: check for spelling errors or missing imports.\n",
      "\n",
      "Stacktrace:\n",
      " [1] top-level scope\n",
      "   @ c:\\Users\\freak\\OneDrive\\Documents\\core\\Projects\\cavityCoupling\\jl_notebook_cell_df34fa98e69747e1a8f8a730347b8e2f_X10sZmlsZQ==.jl:4"
     ]
    }
   ],
   "source": [
    "# only for linear differential equations\n",
    "B = []\n",
    "for i=1:3\n",
    "    push!(B, expand( equations(sys)[i].rhs - (A * states(sys))[i] ) )\n",
    "end\n",
    "B #./ pin"
   ]
  },
  {
   "cell_type": "code",
   "execution_count": 9,
   "id": "7c6500fa",
   "metadata": {},
   "outputs": [
    {
     "data": {
      "text/plain": [
       "3-element Vector{SymbolicUtils.BasicSymbolic{Complex{Real}}}:\n",
       " (0 + 2im)*sqrt(γ1)\n",
       " (0 + 2im)*sqrt(γ2)\n",
       " (0 + 2im)*sqrt(γ3)"
      ]
     },
     "metadata": {},
     "output_type": "display_data"
    }
   ],
   "source": [
    "row_vec = 2im .* [sqrt(γ1), sqrt(γ2), sqrt(γ3)]\n",
    "#row_vec' * inv(A) * B"
   ]
  },
  {
   "cell_type": "code",
   "execution_count": 18,
   "id": "c284f8d3",
   "metadata": {},
   "outputs": [],
   "source": [
    "#Numerical calculations of dispersion spectra for case-1 (J > Γ)\n",
    "gamma1 = 2.94e-3# gyromagnetic ration for magnon-1\n",
    "gamma2 = 1.76e-2/2/pi# gyromagnetic ration for magnon-2\n",
    "M1 = 10900\n",
    "M2 = 1750 # YIG\n",
    "\n",
    "θ = 0\n",
    "γ1n=0.0001; γ2n=0.008; γ3n=0.02*cos(θ)^2\n",
    "# γ1n=0.0001; γ2n=0.008*sin(θ)^2; γ3n=0.02*cos(θ)^2\n",
    "\n",
    "gn1=0.038; gn2=0.033; gn3=0.02;\n",
    "# ω2n = 3.9790176; \n",
    "ω3n = 5.05;\n",
    "Hlist = range(0, 1600, length=100) |> collect\n",
    "occupationList1 = Float64[]; occupationList2 = Any[]; occupationList3 = Any[]\n",
    "for H in Hlist\n",
    "        substitutions = Dict(ω1=>gamma1*sqrt(H*(H+M1)),ω2=>gamma2*sqrt(H*(H+M2)),ω3=>ω3n,g1=>gn1,g2=>gn2,g3=>gn3,γ1=>γ1n,γ2=>γ2n,γ3=>γ3n)\n",
    "        # substitutions = Dict(ω1=>1.38284384+(3.19289744)*H,ω2=>ω2n,ω3=>ω3n,g1=>gn1,g2=>gn2,g3=>gn3,γ1=>γ1n,γ2=>γ2n,γ3=>γ3n)\n",
    "        An=substitute( A, substitutions)\n",
    "        Ann = 1im*zeros(3,3)  #create a zeros(matrix) of 3*3\n",
    "        \n",
    "        for i=1:3\n",
    "            for j=1:3\n",
    "                Ann[i,j] = real(An[i,j]) + 1im * imag(An[i,j])\n",
    "            end\n",
    "        \n",
    "        end\n",
    "        if abs(H-0.8) < 1e-2\n",
    "            println(1im*Ann)\n",
    "        end\n",
    "        data0=Ann * 1im\n",
    "        data1 = la.eigen(data0) #Use the eigen function to compute the eigenvalues and eigenvectors of data0.\n",
    "    \n",
    "        datar=la.real(data1.values) #Extract the real part of eigenvalues from the result and print them, eigenvalues = data1.values,eigenvectors = data1.vectors\n",
    "        r1n=datar[1]; r2n=datar[2];  r3n=datar[3];\n",
    "        #print(datar)\n",
    "    push!(occupationList1, r1n); push!(occupationList2, r2n); push!(occupationList3, r3n) # Add a floating-point number to occupationList1,Add different types of elements to occupationList2\n",
    "end\n",
    "\n",
    "using PyPlot\n",
    "plot(Hlist,occupationList1,\"k\");plot(Hlist,occupationList2,\"k\"); plot(Hlist,occupationList3,\"k\")\n",
    "xlabel(\"Magnetic Field (Oe)\"); ylabel(\"Frequency (GHz)\")\n",
    "\n",
    "# xlim(0.6, 1.5)\n",
    "# ylim(3, 6) \n",
    "tight_layout()\n",
    "# savefig(\"3mode.png\")\n",
    "\n",
    "using DelimitedFiles\n",
    "root = joinpath(pwd(),\"data\",\"yig_t_sweep_outputs\")\n",
    "# Read the CSV file into a DataFrame\n",
    "# file_path = joinpath(root,\"strong_peaks_widths.csv\")\n",
    "# file_path = joinpath(root, \"peaks_widths\", \"$type\"*\"_peaks_widths.csv\")\n",
    "file_path_full = joinpath(root,\"yig_t_0.06.csv\")\n",
    "# df = readdlm(file_path, ',', Float64, '\\n',skipstart=1)\n",
    "full_data = readdlm(file_path_full,',',Float64,'\\n')\n",
    "\n",
    "# Display the first few rows of the DataFrame\n",
    "frequencies = full_data[2:end,1];\n",
    "s21 = full_data[2:end,2:end];\n",
    "# locs = df[:,1:2] * 2e9 * pi;\n",
    "# locs = sort(locs, dims=2)\n",
    "Hlist = full_data[1,2:end];\n",
    "\n",
    "contourf(Hlist, frequencies, s21, cmap=\"jet\", levels=-7:0.01:0)\n",
    "\n",
    "ylim(4.5,5.6)\n",
    "\n",
    "savefig(\"3mode.png\")\n",
    "close()"
   ]
  },
  {
   "cell_type": "code",
   "execution_count": 11,
   "id": "ecd73439",
   "metadata": {},
   "outputs": [
    {
     "ename": "ErrorException",
     "evalue": "type Float64 has no field val",
     "output_type": "error",
     "traceback": [
      "type Float64 has no field val\n",
      "\n",
      "Stacktrace:\n",
      " [1] getproperty(x::Float64, f::Symbol)\n",
      "   @ Base .\\Base.jl:49\n",
      " [2] top-level scope\n",
      "   @ c:\\Users\\freak\\OneDrive\\Documents\\core\\Projects\\cavityCoupling\\jl_notebook_cell_df34fa98e69747e1a8f8a730347b8e2f_X13sZmlsZQ==.jl:16"
     ]
    }
   ],
   "source": [
    "#Numerical calculations of dispersion spectra for case-1 (J > Γ)\n",
    "θ = 0\n",
    "γ1n=0.0001; γ2n=0.008*cos(θ)^2; γ3n=0.02*sin(θ)^2\n",
    "\n",
    "gn1=0.038; gn2=0.033; gn3=0.058;\n",
    "ω2n = 3.9790176; ω3n = 5.71;\n",
    "Hlist = range(0.60, 1.5, length=100) |> collect\n",
    "occupationList1 = Float64[]; occupationList2 = Any[]; occupationList3 = Any[]\n",
    "for H in Hlist\n",
    "        substitutions = Dict(ω1=>1.38284384+(3.19289744)*H,ω2=>ω2n,ω3=>ω3n,g1=>gn1,g2=>gn2,g3=>gn3,γ1=>γ1n,γ2=>γ2n,γ3=>γ3n)\n",
    "        An=substitute( A, substitutions)\n",
    "        Ann = 1im*zeros(3,3)  #create a zeros(matrix) of 3*3\n",
    "        \n",
    "        for i=1:3\n",
    "            for j=1:3\n",
    "                Ann[i,j] = real(An[i,j]).val + 1im * imag(An[i,j]).val\n",
    "            end\n",
    "        \n",
    "        end\n",
    "        if abs(H-0.8) < 1e-2\n",
    "            println(1im*Ann)\n",
    "        end\n",
    "        data0=Ann * 1im\n",
    "        data1 = la.eigen(data0) #Use the eigen function to compute the eigenvalues and eigenvectors of data0.\n",
    "    \n",
    "        datar=la.real(data1.values) #Extract the real part of eigenvalues from the result and print them, eigenvalues = data1.values,eigenvectors = data1.vectors\n",
    "        r1n=datar[1]; r2n=datar[2];  r3n=datar[3];\n",
    "        #print(datar)\n",
    "    push!(occupationList1, r1n); push!(occupationList2, r2n); push!(occupationList3, r3n) # Add a floating-point number to occupationList1,Add different types of elements to occupationList2\n",
    "end\n",
    "\n",
    "using PyPlot\n",
    "plot(Hlist,occupationList1,\"k\",linewidth=1.5);plot(Hlist,occupationList2,\"k\",linewidth=1.5); plot(Hlist,occupationList3,\"k\",linewidth=1.5)\n",
    "xlabel(\"Magnetic Field (kOe)\"); ylabel(\"Frequency (GHz)\")\n",
    "\n",
    "xlim(0.6, 1.5)\n",
    "ylim(3.5, 6.5) \n",
    "savefig(\"Example1.png\")\n",
    "\n",
    "using DelimitedFiles\n",
    "file_path = raw\"E:\\Abhishek\\Paper writting\\paper_3_elc rotation\\Simulation Data\\Rotation run files\\result text file\\csv files for julia fitting\\srr.ring.60.600.5.1500.csv\"\n",
    "\n",
    "data = readdlm(file_path, ',', Float64, '\\n')\n",
    "# Convert the DataFrame to a Julia matrix\n",
    "s = Matrix(data)\n",
    "\n",
    "i1 = 600\n",
    "i2 = 1500\n",
    "t1 = 5\n",
    "l1 = 3\n",
    "l2 = 7\n",
    "t2 = 0.0013333\n",
    "\n",
    "x = i1:t1:i2\n",
    "y = l1:t2:l2  # Adjusted to ensure it covers the range [3, 5)\n",
    "\n",
    "# Plot using 'jet' colormap and adjust colorbar scale\n",
    "#heatmap(x, y, s, c=:jet, clim=(-7, 0),\n",
    "#        xlabel=\"X-axis\", ylabel=\"Y-axis\", title=\"Contour Plot with Jet Colormap\")\n",
    "\n",
    "#pcolormesh(x/1000,y,s,cmap=\"jet\",clim=(-7,0),levels=-7:0.1:0)\n",
    "contourf(x/1000, y, s, cmap=\"jet\", levels=-7:0.01:0)\n",
    "#plot(Hlist,occupationList1,\"k\",linewidth=2);plot(Hlist,occupationList2,\"k\",linewidth=2); plot(Hlist,occupationList3,\"k\",linewidth=2)\n",
    "# Set custom y-axis range\n",
    "#yaxis!((3.6, 4.4))\n",
    "#ylim(3.6,4.4)\n",
    "# Save the figure with higher resolution (e.g., 300 dpi)\n",
    "savefig(\"Example1.png\")\n",
    "\n",
    "#@show pwd()\n",
    "#display(\"image/png\", read(\"Example.png\"))\n",
    "#println(\"Size of x: \", size(x))\n",
    "#println(\"Size of y: \", size(y))\n",
    "#println(\"Size of s: \", size(s))"
   ]
  },
  {
   "cell_type": "code",
   "execution_count": 12,
   "id": "b6fd6712",
   "metadata": {},
   "outputs": [],
   "source": []
  }
 ],
 "metadata": {
  "kernelspec": {
   "display_name": "Julia 1.11.3",
   "language": "julia",
   "name": "julia-1.11"
  },
  "language_info": {
   "file_extension": ".jl",
   "mimetype": "application/julia",
   "name": "julia",
   "version": "1.11.3"
  }
 },
 "nbformat": 4,
 "nbformat_minor": 5
}
