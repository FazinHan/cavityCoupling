{
 "cells": [
  {
   "cell_type": "code",
   "execution_count": null,
   "id": "27cc40aa",
   "metadata": {},
   "outputs": [
    {
     "ename": "",
     "evalue": "",
     "output_type": "error",
     "traceback": [
      "\u001b[1;31mFailed to start the Kernel. \n",
      "\u001b[1;31mUnable to start Kernel 'Julia 1.11.2' due to a timeout waiting for the ports to get used. \n",
      "\u001b[1;31mView Jupyter <a href='command:jupyter.viewOutput'>log</a> for further details."
     ]
    }
   ],
   "source": [
    "using QuantumCumulants\n",
    "using OrdinaryDiffEq, ModelingToolkit\n",
    "using DifferentialEquations\n",
    "using PyPlot\n",
    "# using NPZ\n",
    "import LinearAlgebra as la"
   ]
  },
  {
   "cell_type": "code",
   "execution_count": null,
   "id": "0c990510",
   "metadata": {},
   "outputs": [],
   "source": [
    "# Hilbert space\n",
    "h1 = FockSpace(:magnon)\n",
    "h2 = FockSpace(:magnon)\n",
    "\n",
    "h3 = FockSpace(:cavity)\n",
    "h=h1⊗h2⊗h3  #tensor product (genaralised hilbert space) of magnon and cavity mode"
   ]
  },
  {
   "cell_type": "code",
   "execution_count": null,
   "id": "118a09f3",
   "metadata": {},
   "outputs": [],
   "source": [
    "# Define parameters\n",
    "@cnumbers ω1 ω2 ω3 g1 g2 g3 γ1 γ2 γ3 pin   # 1-magnonPY, 2-magnonYIG 3-photon"
   ]
  },
  {
   "cell_type": "code",
   "execution_count": null,
   "id": "219fe474",
   "metadata": {},
   "outputs": [],
   "source": [
    "# Define the fundamental operators\n",
    "@qnumbers b1::Destroy(h,1) b2::Destroy(h,2) b3::Destroy(h,3) # b1 annihilation operator for magnon and b2 annihilation operator for photon"
   ]
  },
  {
   "cell_type": "code",
   "execution_count": null,
   "id": "a06198ca",
   "metadata": {},
   "outputs": [],
   "source": [
    "# Hamiltonian with two modes b1 and b2\n",
    "Ham = ω1*(b1'*b1) + ω2*(b2'*b2) + ω3*(b3'*b3) +(g2-1im*sqrt(γ1*γ2))*((b1'*b2)+(b1*b2')) + (g3-1im*sqrt(γ1*γ3))*((b1'*b3)+(b1*b3')) + (g1-1im*sqrt(γ2*γ3))*((b2'*b3)+(b2*b3')) + sqrt(γ1)*pin*( b1'+b1) + sqrt(γ2)*pin*(b2'+b2) + sqrt(γ3)*pin*(b3'+b3)"
   ]
  },
  {
   "cell_type": "code",
   "execution_count": null,
   "id": "9ef8612c",
   "metadata": {},
   "outputs": [],
   "source": [
    "# Derive a set of equations\n",
    "ops = [b1,b2,b3]\n",
    "eqs = meanfield(ops,Ham,[b1,b2,b3];rates=[2γ1,2γ2,2γ3],order=1)\n",
    "eqs_completed = complete(eqs)"
   ]
  },
  {
   "cell_type": "code",
   "execution_count": null,
   "id": "85e3b87d",
   "metadata": {},
   "outputs": [],
   "source": [
    "# Complete equations\n",
    "@named sys = ODESystem(eqs_completed);\n",
    "A = calculate_jacobian(sys); #B=[eqs_completed[1].rhs.dict[Ω1] * Ω1; eqs_completed[2].rhs.dict[Ω2] * Ω2];\n",
    "#Ainv=inv(A); X=Ainv*B; b1=X[1]; b2=X[2];\n",
    "A"
   ]
  },
  {
   "cell_type": "code",
   "execution_count": null,
   "id": "67d290d1",
   "metadata": {},
   "outputs": [],
   "source": [
    "# only for linear differential equations\n",
    "B = []\n",
    "for i=1:3\n",
    "    push!(B, expand( equations(sys)[i].rhs - (A * states(sys))[i] ) )\n",
    "end\n",
    "B #./ pin"
   ]
  },
  {
   "cell_type": "code",
   "execution_count": null,
   "id": "7c6500fa",
   "metadata": {},
   "outputs": [],
   "source": [
    "row_vec = 2im .* [sqrt(γ1), sqrt(γ2), sqrt(γ3)]\n",
    "#row_vec' * inv(A) * B"
   ]
  },
  {
   "cell_type": "code",
   "execution_count": null,
   "id": "c284f8d3",
   "metadata": {},
   "outputs": [],
   "source": [
    "#Numerical calculations of dispersion spectra for case-1 (J > Γ)\n",
    "gamma1 = 2.94e-3# gyromagnetic ration for magnon-1\n",
    "gamma2 = 1.76e-2/2/pi# gyromagnetic ration for magnon-2\n",
    "M1 = 10900\n",
    "M2 = 1750 # YIG\n",
    "\n",
    "θ = 0\n",
    "γ1n=0.0001; γ2n=0.008; γ3n=0.02*cos(θ)^2\n",
    "# γ1n=0.0001; γ2n=0.008*sin(θ)^2; γ3n=0.02*cos(θ)^2\n",
    "\n",
    "gn1=0.038; gn2=0.033; gn3=0.02;\n",
    "# ω2n = 3.9790176; \n",
    "ω3n = 5.05;\n",
    "Hlist = range(0, 1600, length=100) |> collect\n",
    "occupationList1 = Float64[]; occupationList2 = Any[]; occupationList3 = Any[]\n",
    "for H in Hlist\n",
    "        substitutions = Dict(ω1=>gamma1*sqrt(H*(H+M1)),ω2=>gamma2*sqrt(H*(H+M2)),ω3=>ω3n,g1=>gn1,g2=>gn2,g3=>gn3,γ1=>γ1n,γ2=>γ2n,γ3=>γ3n)\n",
    "        # substitutions = Dict(ω1=>1.38284384+(3.19289744)*H,ω2=>ω2n,ω3=>ω3n,g1=>gn1,g2=>gn2,g3=>gn3,γ1=>γ1n,γ2=>γ2n,γ3=>γ3n)\n",
    "        An=substitute( A, substitutions)\n",
    "        Ann = 1im*zeros(3,3)  #create a zeros(matrix) of 3*3\n",
    "        \n",
    "        for i=1:3\n",
    "            for j=1:3\n",
    "                Ann[i,j] = real(An[i,j]) + 1im * imag(An[i,j])\n",
    "            end\n",
    "        \n",
    "        end\n",
    "        if abs(H-0.8) < 1e-2\n",
    "            println(1im*Ann)\n",
    "        end\n",
    "        data0=Ann * 1im\n",
    "        data1 = la.eigen(data0) #Use the eigen function to compute the eigenvalues and eigenvectors of data0.\n",
    "    \n",
    "        datar=la.real(data1.values) #Extract the real part of eigenvalues from the result and print them, eigenvalues = data1.values,eigenvectors = data1.vectors\n",
    "        r1n=datar[1]; r2n=datar[2];  r3n=datar[3];\n",
    "        #print(datar)\n",
    "    push!(occupationList1, r1n); push!(occupationList2, r2n); push!(occupationList3, r3n) # Add a floating-point number to occupationList1,Add different types of elements to occupationList2\n",
    "end\n",
    "\n",
    "using PyPlot\n",
    "plot(Hlist,occupationList1,\"k\");plot(Hlist,occupationList2,\"k\"); plot(Hlist,occupationList3,\"k\")\n",
    "xlabel(\"Magnetic Field (Oe)\"); ylabel(\"Frequency (GHz)\")\n",
    "\n",
    "# xlim(0.6, 1.5)\n",
    "# ylim(3, 6) \n",
    "tight_layout()\n",
    "# savefig(\"3mode.png\")\n",
    "\n",
    "using DelimitedFiles\n",
    "root = joinpath(pwd(),\"data\",\"yig_t_sweep_outputs\")\n",
    "# Read the CSV file into a DataFrame\n",
    "# file_path = joinpath(root,\"strong_peaks_widths.csv\")\n",
    "# file_path = joinpath(root, \"peaks_widths\", \"$type\"*\"_peaks_widths.csv\")\n",
    "file_path_full = joinpath(root,\"yig_t_0.06.csv\")\n",
    "# df = readdlm(file_path, ',', Float64, '\\n',skipstart=1)\n",
    "full_data = readdlm(file_path_full,',',Float64,'\\n')\n",
    "\n",
    "# Display the first few rows of the DataFrame\n",
    "frequencies = full_data[2:end,1];\n",
    "s21 = full_data[2:end,2:end];\n",
    "# locs = df[:,1:2] * 2e9 * pi;\n",
    "# locs = sort(locs, dims=2)\n",
    "Hlist = full_data[1,2:end];\n",
    "\n",
    "contourf(Hlist, frequencies, s21, cmap=\"jet\", levels=-7:0.01:0)\n",
    "\n",
    "ylim(4.5,5.6)\n",
    "\n",
    "savefig(\"3mode.png\")\n",
    "close()"
   ]
  },
  {
   "cell_type": "code",
   "execution_count": null,
   "id": "ecd73439",
   "metadata": {},
   "outputs": [],
   "source": [
    "#Numerical calculations of dispersion spectra for case-1 (J > Γ)\n",
    "θ = 0\n",
    "γ1n=0.0001; γ2n=0.008*cos(θ)^2; γ3n=0.02*sin(θ)^2\n",
    "\n",
    "gn1=0.038; gn2=0.033; gn3=0.058;\n",
    "ω2n = 3.9790176; ω3n = 5.71;\n",
    "Hlist = range(0.60, 1.5, length=100) |> collect\n",
    "occupationList1 = Float64[]; occupationList2 = Any[]; occupationList3 = Any[]\n",
    "for H in Hlist\n",
    "        substitutions = Dict(ω1=>1.38284384+(3.19289744)*H,ω2=>ω2n,ω3=>ω3n,g1=>gn1,g2=>gn2,g3=>gn3,γ1=>γ1n,γ2=>γ2n,γ3=>γ3n)\n",
    "        An=substitute( A, substitutions)\n",
    "        Ann = 1im*zeros(3,3)  #create a zeros(matrix) of 3*3\n",
    "        \n",
    "        for i=1:3\n",
    "            for j=1:3\n",
    "                Ann[i,j] = real(An[i,j]).val + 1im * imag(An[i,j]).val\n",
    "            end\n",
    "        \n",
    "        end\n",
    "        if abs(H-0.8) < 1e-2\n",
    "            println(1im*Ann)\n",
    "        end\n",
    "        data0=Ann * 1im\n",
    "        data1 = la.eigen(data0) #Use the eigen function to compute the eigenvalues and eigenvectors of data0.\n",
    "    \n",
    "        datar=la.real(data1.values) #Extract the real part of eigenvalues from the result and print them, eigenvalues = data1.values,eigenvectors = data1.vectors\n",
    "        r1n=datar[1]; r2n=datar[2];  r3n=datar[3];\n",
    "        #print(datar)\n",
    "    push!(occupationList1, r1n); push!(occupationList2, r2n); push!(occupationList3, r3n) # Add a floating-point number to occupationList1,Add different types of elements to occupationList2\n",
    "end\n",
    "\n",
    "using PyPlot\n",
    "plot(Hlist,occupationList1,\"k\",linewidth=1.5);plot(Hlist,occupationList2,\"k\",linewidth=1.5); plot(Hlist,occupationList3,\"k\",linewidth=1.5)\n",
    "xlabel(\"Magnetic Field (kOe)\"); ylabel(\"Frequency (GHz)\")\n",
    "\n",
    "xlim(0.6, 1.5)\n",
    "ylim(3.5, 6.5) \n",
    "savefig(\"Example1.png\")\n",
    "\n",
    "using DelimitedFiles\n",
    "file_path = raw\"E:\\Abhishek\\Paper writting\\paper_3_elc rotation\\Simulation Data\\Rotation run files\\result text file\\csv files for julia fitting\\srr.ring.60.600.5.1500.csv\"\n",
    "\n",
    "data = readdlm(file_path, ',', Float64, '\\n')\n",
    "# Convert the DataFrame to a Julia matrix\n",
    "s = Matrix(data)\n",
    "\n",
    "i1 = 600\n",
    "i2 = 1500\n",
    "t1 = 5\n",
    "l1 = 3\n",
    "l2 = 7\n",
    "t2 = 0.0013333\n",
    "\n",
    "x = i1:t1:i2\n",
    "y = l1:t2:l2  # Adjusted to ensure it covers the range [3, 5)\n",
    "\n",
    "# Plot using 'jet' colormap and adjust colorbar scale\n",
    "#heatmap(x, y, s, c=:jet, clim=(-7, 0),\n",
    "#        xlabel=\"X-axis\", ylabel=\"Y-axis\", title=\"Contour Plot with Jet Colormap\")\n",
    "\n",
    "#pcolormesh(x/1000,y,s,cmap=\"jet\",clim=(-7,0),levels=-7:0.1:0)\n",
    "contourf(x/1000, y, s, cmap=\"jet\", levels=-7:0.01:0)\n",
    "#plot(Hlist,occupationList1,\"k\",linewidth=2);plot(Hlist,occupationList2,\"k\",linewidth=2); plot(Hlist,occupationList3,\"k\",linewidth=2)\n",
    "# Set custom y-axis range\n",
    "#yaxis!((3.6, 4.4))\n",
    "#ylim(3.6,4.4)\n",
    "# Save the figure with higher resolution (e.g., 300 dpi)\n",
    "savefig(\"Example1.png\")\n",
    "\n",
    "#@show pwd()\n",
    "#display(\"image/png\", read(\"Example.png\"))\n",
    "#println(\"Size of x: \", size(x))\n",
    "#println(\"Size of y: \", size(y))\n",
    "#println(\"Size of s: \", size(s))"
   ]
  },
  {
   "cell_type": "code",
   "execution_count": null,
   "id": "b6fd6712",
   "metadata": {},
   "outputs": [],
   "source": []
  }
 ],
 "metadata": {
  "kernelspec": {
   "display_name": "Julia 1.11.2",
   "language": "julia",
   "name": "julia-1.11"
  },
  "language_info": {
   "file_extension": ".jl",
   "mimetype": "application/julia",
   "name": "julia",
   "version": "1.11.2"
  }
 },
 "nbformat": 4,
 "nbformat_minor": 5
}
