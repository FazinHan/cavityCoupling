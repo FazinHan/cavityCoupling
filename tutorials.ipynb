{
 "cells": [
  {
   "cell_type": "code",
   "execution_count": null,
   "metadata": {},
   "outputs": [
    {
     "ename": "",
     "evalue": "",
     "output_type": "error",
     "traceback": [
      "\u001b[1;31mFailed to start the Kernel. \n",
      "\u001b[1;31mUnable to start Kernel 'Julia 1.11.2' due to a timeout waiting for the ports to get used. \n",
      "\u001b[1;31mView Jupyter <a href='command:jupyter.viewOutput'>log</a> for further details."
     ]
    }
   ],
   "source": [
    "using QuantumCumulants\n",
    "using ModelingToolkit, OrdinaryDiffEq\n",
    "using Plots\n",
    "\n",
    "# Define parameters\n",
    "@cnumbers Δ g γ κ ν\n",
    "\n",
    "# Define hilbert space\n",
    "hf = FockSpace(:cavity)\n",
    "ha = NLevelSpace(:atom,(:g,:e))\n",
    "h = hf ⊗ ha\n",
    "\n",
    "# Define the fundamental operators\n",
    "a = Destroy(h,:a)\n",
    "s = Transition(h,:σ,:g,:e)\n",
    "\n",
    "# Hamiltonian\n",
    "H = Δ*a'*a + g*(a'*s + a*s')\n",
    "\n",
    "# Collapse operators\n",
    "J = [a,s,s']\n",
    "rates = [κ,γ,ν]\n",
    "\n",
    "# Derive equation for average photon number\n",
    "eq_n = meanfield(a'*a,H,J;rates=rates,order=2)\n"
   ]
  },
  {
   "cell_type": "code",
   "execution_count": null,
   "metadata": {},
   "outputs": [],
   "source": [
    "# Custom filter function -- include only phase-invariant terms\n",
    "ϕ(x) = 0\n",
    "ϕ(::Destroy) = -1\n",
    "ϕ(::Create) = 1\n",
    "function ϕ(t::Transition)\n",
    "    if (t.i==:e && t.j==:g)\n",
    "        1\n",
    "    elseif (t.i==:g && t.j==:e)\n",
    "        -1\n",
    "    else\n",
    "        0\n",
    "    end\n",
    "end\n",
    "ϕ(avg::Average) = ϕ(avg.arguments[1])\n",
    "function ϕ(t::QuantumCumulants.QMul)\n",
    "    p = 0\n",
    "    for arg in t.args_nc\n",
    "        p += ϕ(arg)\n",
    "    end\n",
    "    return p\n",
    "end\n",
    "phase_invariant(x) = iszero(ϕ(x))\n",
    "\n",
    "# Complete equations\n",
    "eqs = complete(eq_n;filter_func=phase_invariant)"
   ]
  },
  {
   "cell_type": "code",
   "execution_count": null,
   "metadata": {},
   "outputs": [],
   "source": [
    "# Correlation function\n",
    "c = CorrelationFunction(a', a, eqs; steady_state=true, filter_func=phase_invariant)"
   ]
  },
  {
   "cell_type": "code",
   "execution_count": null,
   "metadata": {},
   "outputs": [],
   "source": [
    "# Numerical solution\n",
    "ps = (Δ, g, γ, κ, ν)\n",
    "@named sys = ODESystem(eqs)\n",
    "u0 = zeros(ComplexF64, length(eqs))\n",
    "p0 = (1.0, 1.5, 0.25, 1, 4)\n",
    "prob = ODEProblem(sys,u0,(0.0,10.0),ps.=>p0)\n",
    "sol = solve(prob,RK4())"
   ]
  },
  {
   "cell_type": "code",
   "execution_count": null,
   "metadata": {},
   "outputs": [],
   "source": [
    "# Time evolution of correlation function\n",
    "@named csys = ODESystem(c)\n",
    "u0_c = correlation_u0(c,sol.u[end])\n",
    "p0_c = correlation_p0(c,sol.u[end],ps.=>p0)\n",
    "prob_c = ODEProblem(csys,u0_c,(0.0,500.0),p0_c)\n",
    "sol_c = solve(prob_c,RK4(),save_idxs=1)"
   ]
  },
  {
   "cell_type": "code",
   "execution_count": null,
   "metadata": {},
   "outputs": [],
   "source": [
    "# Interpolate solution\n",
    "τ = range(0.0, sol_c.t[end], length=15001)\n",
    "corr = sol_c.(τ)\n",
    "\n",
    "# Compute spectrum\n",
    "using QuantumOptics.timecorrelations: correlation2spectrum\n",
    "ω, s_fft = correlation2spectrum(τ, corr)"
   ]
  },
  {
   "cell_type": "code",
   "execution_count": null,
   "metadata": {},
   "outputs": [],
   "source": [
    "# Spectrum\n",
    "S = Spectrum(c,ps)\n",
    "s_laplace = S(ω,sol.u[end],p0)\n",
    "\n",
    "plot(ω, s_fft, label=\"Spectrum (FFT)\", xlabel=\"ω\")\n",
    "plot!(ω, s_laplace, label=\"Spectrum (Laplace)\")\n",
    "xlims!(-3,3)"
   ]
  }
 ],
 "metadata": {
  "kernelspec": {
   "display_name": "Julia 1.11.2",
   "language": "julia",
   "name": "julia-1.11"
  },
  "language_info": {
   "file_extension": ".jl",
   "mimetype": "application/julia",
   "name": "julia",
   "version": "1.11.2"
  }
 },
 "nbformat": 4,
 "nbformat_minor": 2
}
